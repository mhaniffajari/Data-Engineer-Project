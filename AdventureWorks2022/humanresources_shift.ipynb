{
  "nbformat": 4,
  "nbformat_minor": 2,
  "cells": [
    {
      "cell_type": "markdown",
      "metadata": {
        "nteract": {
          "transient": {
            "deleting": false
          }
        }
      },
      "source": [
        "# Import Libraries"
      ]
    },
    {
      "cell_type": "code",
      "execution_count": 37,
      "outputs": [],
      "metadata": {
        "jupyter": {
          "source_hidden": false,
          "outputs_hidden": false
        },
        "nteract": {
          "transient": {
            "deleting": false
          }
        }
      },
      "source": [
        "%run utilities/global_class"
      ]
    },
    {
      "cell_type": "code",
      "execution_count": 38,
      "outputs": [],
      "metadata": {
        "jupyter": {
          "source_hidden": false,
          "outputs_hidden": false
        },
        "nteract": {
          "transient": {
            "deleting": false
          }
        }
      },
      "source": [
        "%run utilities/package"
      ]
    },
    {
      "cell_type": "code",
      "execution_count": 39,
      "outputs": [],
      "metadata": {
        "jupyter": {
          "source_hidden": false,
          "outputs_hidden": false
        },
        "nteract": {
          "transient": {
            "deleting": false
          }
        }
      },
      "source": [
        "#staging file format\r\n",
        "container_name = \"hanifsystem\"\r\n",
        "account_name = \"hanifdatalake\"\r\n",
        "stg_fileformat = \"parquet\"\r\n",
        "stg_delimiter = \",\"\r\n",
        "stg_withheader = \"true\"\r\n",
        "stg_main_folder = \"synapse/workspaces/AdventureWorks2022/humanresources_shift\"\r\n",
        "#curated file format\r\n",
        "cur_fileformat = \"delta\"\r\n",
        "cur_delimiter = \",\"\r\n",
        "cur_withheader = \"true\"\r\n",
        "cur_main_folder = \"synapse/workspaces/curated/AdventureWorks/humanresources_shift\"\r\n",
        "#mart file format\r\n",
        "mart_fileformat = \"parquet\"\r\n",
        "mart_delimiter = \",\"\r\n",
        "mart_withheader = \"true\"\r\n",
        "mart_main_folder = \"synapse/workspaces/datamart/AdventureWorks2022/humanresources_shift\""
      ]
    },
    {
      "cell_type": "code",
      "execution_count": 40,
      "outputs": [],
      "metadata": {
        "jupyter": {
          "source_hidden": false,
          "outputs_hidden": false
        },
        "nteract": {
          "transient": {
            "deleting": false
          }
        }
      },
      "source": [
        "start_date = datetime.strftime(datetime.now(), '%Y%m%d')\r\n",
        "ingest_range_day_structured = -2\r\n",
        "\r\n",
        "date_1 = datetime.strptime(start_date, '%Y%m%d')\r\n",
        "result_1 = date_1 + timedelta(days = ingest_range_day_structured)\r\n",
        "filter_date = result_1.strftime('%Y%m%d')\r\n",
        "\r\n",
        "print(filter_date)"
      ]
    },
    {
      "cell_type": "code",
      "execution_count": 41,
      "outputs": [],
      "metadata": {
        "jupyter": {
          "source_hidden": false,
          "outputs_hidden": false
        },
        "nteract": {
          "transient": {
            "deleting": false
          }
        }
      },
      "source": [
        "set_stg_path = PathConstructor(container_name, account_name, stg_main_folder)\r\n",
        "stg_path = set_stg_path.pathconstructor()\r\n",
        "print(stg_path)\r\n",
        "set_cur_path = PathConstructor(container_name, account_name, cur_main_folder)\r\n",
        "cur_path = set_cur_path.pathconstructor()\r\n",
        "print(cur_path)"
      ]
    },
    {
      "cell_type": "markdown",
      "metadata": {
        "nteract": {
          "transient": {
            "deleting": false
          }
        }
      },
      "source": [
        "# Staging Section"
      ]
    },
    {
      "cell_type": "code",
      "execution_count": 42,
      "outputs": [],
      "metadata": {
        "jupyter": {
          "source_hidden": false,
          "outputs_hidden": false
        },
        "nteract": {
          "transient": {
            "deleting": false
          }
        },
        "collapsed": false
      },
      "source": [
        "#df_stg_without_schema\r\n",
        "df_stg_without_schema = spark.read.format(stg_fileformat)\\\r\n",
        ".option('header',stg_withheader)\\\r\n",
        ".option('inferSchema','true')\\\r\n",
        ".load(stg_path)\r\n",
        "display(df_stg_without_schema.limit(10))"
      ]
    },
    {
      "cell_type": "code",
      "execution_count": 43,
      "outputs": [],
      "metadata": {
        "jupyter": {
          "source_hidden": false,
          "outputs_hidden": false
        },
        "nteract": {
          "transient": {
            "deleting": false
          }
        }
      },
      "source": [
        "df_stg_without_schema.printSchema()"
      ]
    },
    {
      "cell_type": "code",
      "execution_count": 44,
      "outputs": [],
      "metadata": {
        "jupyter": {
          "source_hidden": false,
          "outputs_hidden": false
        },
        "nteract": {
          "transient": {
            "deleting": false
          }
        }
      },
      "source": [
        "col_name = df_stg_without_schema.columns\r\n",
        "lower_col_name = [name.lower() for name in col_name]\r\n",
        "df_stg = df_stg_without_schema.toDF(*lower_col_name)"
      ]
    },
    {
      "cell_type": "code",
      "execution_count": 45,
      "outputs": [],
      "metadata": {
        "jupyter": {
          "source_hidden": false,
          "outputs_hidden": false
        },
        "nteract": {
          "transient": {
            "deleting": false
          }
        }
      },
      "source": [
        "df_stg.printSchema()"
      ]
    },
    {
      "cell_type": "code",
      "execution_count": 46,
      "outputs": [],
      "metadata": {
        "jupyter": {
          "source_hidden": false,
          "outputs_hidden": false
        },
        "nteract": {
          "transient": {
            "deleting": false
          }
        },
        "collapsed": false
      },
      "source": [
        "display(df_stg.limit(10))"
      ]
    },
    {
      "cell_type": "code",
      "execution_count": 47,
      "outputs": [],
      "metadata": {
        "jupyter": {
          "source_hidden": false,
          "outputs_hidden": false
        },
        "nteract": {
          "transient": {
            "deleting": false
          }
        }
      },
      "source": [
        "df_stg =df_stg.withColumnRenamed('modifieddate','modifiedutcdate')\r\n",
        "df_stg.printSchema()"
      ]
    },
    {
      "cell_type": "code",
      "execution_count": 48,
      "outputs": [],
      "metadata": {
        "jupyter": {
          "source_hidden": false,
          "outputs_hidden": false
        },
        "nteract": {
          "transient": {
            "deleting": false
          }
        }
      },
      "source": [
        "partition_column = [\"shiftid\"]\r\n",
        "\r\n",
        "df_stg_final = df_stg.withColumn(\"rank\", row_number() \\\r\n",
        "                                        .over(Window.partitionBy(*partition_column) \\\r\n",
        "                                        .orderBy(desc(\"modifiedutcdate\")))) \\\r\n",
        "                     .withColumn(\"curated_date\", F.lit(datetime.now())) \\\r\n",
        "                     .where(\"rank == 1\").drop(\"rank\")"
      ]
    },
    {
      "cell_type": "markdown",
      "metadata": {
        "nteract": {
          "transient": {
            "deleting": false
          }
        }
      },
      "source": [
        "# Curated Section"
      ]
    },
    {
      "cell_type": "code",
      "execution_count": 49,
      "outputs": [],
      "metadata": {
        "jupyter": {
          "source_hidden": false,
          "outputs_hidden": false
        },
        "nteract": {
          "transient": {
            "deleting": false
          }
        }
      },
      "source": [
        "try:\r\n",
        "    set_df_cur = ReadFile(cur_path, cur_fileformat, cur_delimiter, cur_withheader)\r\n",
        "    df_cur = set_df_cur.readfrompath()\r\n",
        "except Exception as ex:\r\n",
        "    df_final = df_stg_final.coalesce(1)\r\n",
        "    df_final.write.format('delta') \\\r\n",
        "            .mode('overwrite') \\\r\n",
        "            .save(cur_path)\r\n",
        "\r\n",
        "    set_df_cur = ReadFile(cur_path, cur_fileformat, cur_delimiter, cur_withheader)\r\n",
        "    df_cur = set_df_cur.readfrompath()"
      ]
    },
    {
      "cell_type": "code",
      "execution_count": 50,
      "outputs": [],
      "metadata": {
        "jupyter": {
          "source_hidden": false,
          "outputs_hidden": false
        },
        "nteract": {
          "transient": {
            "deleting": false
          }
        },
        "collapsed": false
      },
      "source": [
        "display(df_cur)"
      ]
    },
    {
      "cell_type": "code",
      "execution_count": 51,
      "outputs": [],
      "metadata": {
        "jupyter": {
          "source_hidden": false,
          "outputs_hidden": false
        },
        "nteract": {
          "transient": {
            "deleting": false
          }
        }
      },
      "source": [
        "df_cur.createOrReplaceTempView(\"targetTableName\")\r\n",
        "df_stg_final.createOrReplaceTempView(\"updatesTableName\")"
      ]
    },
    {
      "cell_type": "code",
      "execution_count": 52,
      "outputs": [],
      "metadata": {
        "jupyter": {
          "source_hidden": false,
          "outputs_hidden": false
        },
        "nteract": {
          "transient": {
            "deleting": false
          }
        }
      },
      "source": [
        "df_cur.printSchema()"
      ]
    },
    {
      "cell_type": "code",
      "execution_count": 53,
      "outputs": [],
      "metadata": {
        "jupyter": {
          "source_hidden": false,
          "outputs_hidden": false
        },
        "nteract": {
          "transient": {
            "deleting": false
          }
        }
      },
      "source": [
        "spark.sql(\"\"\"\r\n",
        "        MERGE INTO targetTableName\r\n",
        "        USING updatesTableName\r\n",
        "        ON date_format(updatesTableName.modifiedutcdate, 'yyyy-MM-dd') >= TO_DATE('{0}','yyyyMMdd') AND\r\n",
        "           targetTableName.shiftid = updatesTableName.shiftid\r\n",
        "        WHEN MATCHED THEN UPDATE SET\r\n",
        "                targetTableName.name = updatesTableName.name,\r\n",
        "                targetTableName.starttime = updatesTableName.starttime,\r\n",
        "                targetTableName.endtime = updatesTableName.endtime,\r\n",
        "                targetTableName.modifiedutcdate = updatesTableName.modifiedutcdate,\r\n",
        "                targetTableName.curated_date = updatesTableName.curated_date                                \r\n",
        "        WHEN NOT MATCHED AND (date_format(updatesTableName.modifiedutcdate, 'yyyy-MM-dd') >= TO_DATE('{1}','yyyyMMdd')) THEN INSERT * \"\"\".format(filter_date, filter_date)\r\n",
        ")"
      ]
    },
    {
      "cell_type": "markdown",
      "metadata": {
        "nteract": {
          "transient": {
            "deleting": false
          }
        }
      },
      "source": [
        "# Mart Section"
      ]
    },
    {
      "cell_type": "code",
      "execution_count": 54,
      "outputs": [],
      "metadata": {
        "jupyter": {
          "source_hidden": false,
          "outputs_hidden": false
        },
        "nteract": {
          "transient": {
            "deleting": false
          }
        }
      },
      "source": [
        "def WriteFile(df, final_path):\r\n",
        "    try: \r\n",
        "        spark.conf.set(\"mapreduce.fileoutputcommitter.marksuccessfuljobs\",\"false\")\r\n",
        "        df_final = df.coalesce(1)\r\n",
        "        df_final.write.format('parquet') \\\r\n",
        "                .mode('overwrite') \\\r\n",
        "                .save(final_path)\r\n",
        "                                        \r\n",
        "        print(\"Write Success\")\r\n",
        "    except Exception as ex:\r\n",
        "        print(\"Write Failed\", str(ex))"
      ]
    },
    {
      "cell_type": "code",
      "execution_count": 55,
      "outputs": [],
      "metadata": {
        "jupyter": {
          "source_hidden": false,
          "outputs_hidden": false
        },
        "nteract": {
          "transient": {
            "deleting": false
          }
        }
      },
      "source": [
        "set_mart_path = PathConstructor(container_name, account_name, mart_main_folder)\r\n",
        "mart_path = set_mart_path.pathconstructor()\r\n",
        "\r\n",
        "print(\"Source: \", cur_path, \"Mart: \", mart_path)"
      ]
    },
    {
      "cell_type": "code",
      "execution_count": 56,
      "outputs": [],
      "metadata": {
        "jupyter": {
          "source_hidden": false,
          "outputs_hidden": false
        },
        "nteract": {
          "transient": {
            "deleting": false
          }
        }
      },
      "source": [
        "#Create empty dataframe\r\n",
        "df_mart = spark.createDataFrame([], StructType([]))\r\n",
        "df_mart = df_cur\r\n",
        "\r\n",
        "# print(df_mart.count())"
      ]
    },
    {
      "cell_type": "code",
      "execution_count": 57,
      "outputs": [],
      "metadata": {
        "jupyter": {
          "source_hidden": false,
          "outputs_hidden": false
        },
        "nteract": {
          "transient": {
            "deleting": false
          }
        }
      },
      "source": [
        "from dateutil.relativedelta import relativedelta\r\n",
        "\r\n",
        "periode = datetime.now() + relativedelta(months = -2)\r\n",
        "periode = periode.strftime(\"%Y-%m\") + \"-01\"\r\n",
        "print(periode)\r\n",
        "df_mart_final = df_mart.filter(col(\"curated_date\") >= (lit(periode)))"
      ]
    },
    {
      "cell_type": "code",
      "execution_count": 58,
      "outputs": [],
      "metadata": {
        "jupyter": {
          "source_hidden": false,
          "outputs_hidden": false
        },
        "nteract": {
          "transient": {
            "deleting": false
          }
        }
      },
      "source": [
        "partition_list = df_mart_final.select(year(col(\"curated_date\")).alias(\"year\"), month(col(\"curated_date\")) \\\r\n",
        ".alias(\"month\")).dropDuplicates().orderBy(col(\"year\").asc()).orderBy(col(\"month\").asc()).collect()\r\n",
        "\r\n",
        "print(partition_list)"
      ]
    },
    {
      "cell_type": "code",
      "execution_count": 59,
      "outputs": [],
      "metadata": {
        "jupyter": {
          "source_hidden": false,
          "outputs_hidden": false
        },
        "nteract": {
          "transient": {
            "deleting": false
          }
        }
      },
      "source": [
        "for partition in partition_list:\r\n",
        "    final_path = mart_path + '/' + str(partition.year) + str(partition.month).zfill(2)\r\n",
        "    print('Partition path', final_path)\r\n",
        "\r\n",
        "    try:\r\n",
        "        mssparkutils.fs.rm(final_path, True)\r\n",
        "    except Exception as e:\r\n",
        "        pass\r\n",
        "\r\n",
        "    df_final = df_mart_final.filter(year(col(\"curated_date\")) == partition.year).filter(month(col(\"curated_date\")) == partition.month)\r\n",
        "\r\n",
        "    WriteFile(df_final, final_path)"
      ]
    },
    {
      "cell_type": "code",
      "execution_count": 60,
      "outputs": [],
      "metadata": {
        "jupyter": {
          "source_hidden": false,
          "outputs_hidden": false
        },
        "nteract": {
          "transient": {
            "deleting": false
          }
        },
        "collapsed": false
      },
      "source": [
        "display(df_final)"
      ]
    },
    {
      "cell_type": "code",
      "execution_count": 61,
      "outputs": [],
      "metadata": {
        "jupyter": {
          "source_hidden": false,
          "outputs_hidden": false
        },
        "nteract": {
          "transient": {
            "deleting": false
          }
        }
      },
      "source": [
        "df_final.printSchema()"
      ]
    }
  ],
  "metadata": {
    "description": null,
    "save_output": true,
    "kernelspec": {
      "name": "synapse_pyspark",
      "display_name": "Synapse PySpark"
    },
    "language_info": {
      "name": "python"
    }
  }
}